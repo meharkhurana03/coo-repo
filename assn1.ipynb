{
  "cells": [
    {
      "cell_type": "markdown",
      "metadata": {
        "id": "GMJPtHWz69MR"
      },
      "source": [
        "# **Assessment 1**\n",
        "## MTH377 - Convex Optimization"
      ]
    },
    {
      "cell_type": "code",
      "execution_count": 83,
      "metadata": {
        "colab": {
          "base_uri": "https://localhost:8080/"
        },
        "id": "KBMpGmgn69MU",
        "outputId": "7b473b68-2c7f-41f1-c809-6f4dd8eb4952"
      },
      "outputs": [
        {
          "output_type": "stream",
          "name": "stdout",
          "text": [
            "Looking in indexes: https://pypi.org/simple, https://us-python.pkg.dev/colab-wheels/public/simple/\n",
            "Requirement already satisfied: numdifftools in /usr/local/lib/python3.8/dist-packages (0.9.41)\n",
            "Requirement already satisfied: numpy>=1.9 in /usr/local/lib/python3.8/dist-packages (from numdifftools) (1.21.6)\n",
            "Requirement already satisfied: scipy>=0.8 in /usr/local/lib/python3.8/dist-packages (from numdifftools) (1.7.3)\n"
          ]
        }
      ],
      "source": [
        "!pip3 install numdifftools\n",
        "import numdifftools as nd\n",
        "import numpy as np\n",
        "from scipy.optimize import minimize\n",
        "import matplotlib.pyplot as plt\n",
        "import math"
      ]
    },
    {
      "cell_type": "markdown",
      "source": [
        "## **Problem 1 (Taylor Approximation)**\n",
        "Consider the univariate function\n",
        "\n",
        "> $ f(x) = x^2 + \\log{x} $\n",
        "\n",
        "Suppose we want to approximate the function values in the vicinity of $x = 1$ using Taylor polynomials. Lets call the linear approximation function (linear Taylor polynomial) as $L(x)$ and the quadratic approximation function (quadratic Taylor polynomial) as $Q(x)$\n",
        "\n",
        "(a) Plot $f(x)$, $L(x)$ and $Q(x)$ in the interval $[0, 2]$ in the same graph.\n",
        "\n",
        "(b) Let the error associated with the linear approximation be given by $e_L(x) = f(x) − L(x)$, and the error associated with the quadratic approximation be given by $e_Q(x) = f(x)−Q(x)$.\n",
        "\n",
        "Plot $\\frac{e_L(x)}{x-1}$ and $\\frac{e_Q(x)}{(x-1)^2}$ in the interval $[0, 2]$ in the same graph.\n"
      ],
      "metadata": {
        "id": "bgDEEYnuG0tT"
      }
    },
    {
      "cell_type": "markdown",
      "source": [
        "### Solution (a)\n",
        "\n",
        "Taylor Series: \n",
        "> $ f(x) = f(a) + f'(a)(x-a) + \\frac{f''(a)}{2!}(x-a)^2 + ... $\n",
        "\n",
        "Using Taylor approximations around the point $a=1$, we find that:\n",
        "\n",
        "> $L(x) = f(1) + f'(1)(x-1) = f(1) + (2(1) + \\frac{1}{(1)})(x-1)$\n",
        "\n",
        "> $Q(x) = f(1) + f'(1)(x-1) + \\frac{f''(1)}{2!}(x-1)^2 = f(1) + (2(1) + \\frac{1}{(1)})(x-1) + \\frac{2(1) - \\frac{1}{(1)^2}}{2}(x-1)^2$\n",
        "\n",
        "Simplifying further:\n",
        "\n",
        "> $L(x) = f(1) + 3(x-1)$\n",
        "\n",
        "> $Q(x) = f(1) + 3(x-1) + \\frac{1}{2}(x-1)^2$"
      ],
      "metadata": {
        "id": "wpEel9BdUy2J"
      }
    },
    {
      "cell_type": "code",
      "source": [
        "# definition of f(x)\n",
        "def f1(x):\n",
        "  return x**2 + np.log(x)\n",
        "\n",
        "# definition of L(x), the linear approximation of f(x)\n",
        "def L(x):\n",
        "  return f1(1) + (3)*(x-1)\n",
        "\n",
        "# definition of Q(x), the quadratic approximation of f(x)\n",
        "def Q(x):\n",
        "  return f1(1) + (3)*(x-1) + (1)*((x-1)**2)/2\n",
        "\n",
        "\n",
        "# initiating the x - linespace\n",
        "xLin = np.linspace(0.001, 1.999, 10000)\n",
        "\n",
        "# calculating the y-values for each point in the linespace for all three functions\n",
        "y1 = f1(xLin)\n",
        "y2 = L(xLin)\n",
        "y3 = Q(xLin)\n",
        "\n",
        "# plotting the functions\n",
        "fig = plt.figure(figsize=(12, 8))\n",
        "\n",
        "plt.plot(xLin, y1, 'b', label='f(x)')\n",
        "plt.plot(xLin, y2, 'g', label='L(x)')\n",
        "plt.plot(xLin, y3, 'r', label='Q(x)')\n",
        "\n",
        "plt.legend(loc='lower right')\n",
        "plt.show()"
      ],
      "metadata": {
        "colab": {
          "base_uri": "https://localhost:8080/",
          "height": 483
        },
        "id": "S_wGWytOJdbD",
        "outputId": "ecf2cf14-0ca4-4fd2-ddb8-f7ca34797b07"
      },
      "execution_count": 84,
      "outputs": [
        {
          "output_type": "display_data",
          "data": {
            "text/plain": [
              "<Figure size 864x576 with 1 Axes>"
            ],
            "image/png": "[encoded data removed]"
          },
          "metadata": {
            "needs_background": "light"
          }
        }
      ]
    },
    {
      "cell_type": "markdown",
      "source": [
        "#### Solution (b)"
      ],
      "metadata": {
        "id": "Yb13fiEgT4Ie"
      }
    },
    {
      "cell_type": "code",
      "source": [
        "# defining the error b/w f(x) and L(x)\n",
        "def e_L(x):\n",
        "  return f1(x) - L(x)\n",
        "\n",
        "# defining the error b/w f(x) and Q(x)\n",
        "def e_Q(x):\n",
        "  return f1(x) - Q(x)\n",
        "\n",
        "# defining z1 and z2 which are to be plotted\n",
        "z1 = e_L(xLin)/(xLin-1)\n",
        "z2 = e_Q(xLin)/((xLin-1)**2)\n",
        "\n",
        "\n",
        "# plotting the functions\n",
        "fig = plt.figure(figsize=(7, 7))\n",
        "\n",
        "plt.plot(xLin, z1, 'r', label='e_L(x)/(x-1)')\n",
        "plt.plot(xLin, z2, 'g', label='e_Q(x)/(x-1)^2')\n",
        "\n",
        "plt.legend(loc='lower right')\n",
        "plt.show()"
      ],
      "metadata": {
        "colab": {
          "base_uri": "https://localhost:8080/",
          "height": 428
        },
        "id": "t9U_pSJFSIsG",
        "outputId": "adb4ccc3-1d16-4709-cf05-b9423607b48f"
      },
      "execution_count": 85,
      "outputs": [
        {
          "output_type": "display_data",
          "data": {
            "text/plain": [
              "<Figure size 504x504 with 1 Axes>"
            ],
            "image/png": "[encoded data removed]"
          },
          "metadata": {
            "needs_background": "light"
          }
        }
      ]
    },
    {
      "cell_type": "markdown",
      "source": [
        "As can be seen in the above graph, the error associated with the linear approximation $L(x)$ increases as we move farther from the point at which we are approximating the function, while the quadratic approximation $Q(x)$ remains close to $0$."
      ],
      "metadata": {
        "id": "M_ZASv_PUE7N"
      }
    },
    {
      "cell_type": "markdown",
      "metadata": {
        "id": "EKCi8ole69MW"
      },
      "source": [
        "\n",
        "\n",
        "## **Problem 2 (Combined Descent Algorithm)**\n",
        "Write a code to compute the unconstrained minimum of the following optimization problem by implementing a **combination descent algorithm** with initial point $(1, 1)$.\n",
        "\n",
        "\n",
        "> $\\min\\limits_{x, y} f(x, y) = (x^2 - 3y^2)^2 + \\sin^2(x^2 + y^2)$\n",
        "\n",
        "\n",
        "### **Solution**\n",
        "#### Combined Descent Algorithm\n",
        "\n",
        "> while $(||∇f|| > η) $\n",
        "> {\n",
        "  1. if $Hf(x)$ is positive definite, $d = [Hf(x)]^{-1}(-∇f(x))$; else $d = -∇f(x)$.\n",
        "  2. Line Search: choose step-size $t > 0$ and backtrack to a favourable $t$.\n",
        "  3. update $x := x + t \\cdot d$\n",
        "> }\n",
        "\n",
        "Chosen parameters\n",
        "- eta, tolerance: $0.0001$\n",
        "- alpha: $0.3$\n",
        "- beta: $0.6$"
      ]
    },
    {
      "cell_type": "code",
      "execution_count": 86,
      "metadata": {
        "colab": {
          "base_uri": "https://localhost:8080/"
        },
        "id": "TPqbKpka69MW",
        "outputId": "9b59668b-859a-47a9-9733-3dfb6f54d401"
      },
      "outputs": [
        {
          "output_type": "stream",
          "name": "stdout",
          "text": [
            "AT ITERATION 0________________________________________________________________________________________\n",
            "curr_X :\t\t[1 1] \t ||grad_f|| : 24.4161143598961\n",
            "Direction Derivative : -10.012974356217539 \t\t direction vector : [  9.51360499 -22.48639501]\n",
            "-del_f : \t\t3.8191136819628557 \t\t t (step-size) : 0.016796159999999997\n",
            "\n",
            "AT ITERATION 1________________________________________________________________________________________\n",
            "curr_X :\t\t[1.15979203 0.62231491] \t ||grad_f|| : 1.767715181291036\n",
            "Direction Derivative : -0.14579146018685427 \t\t direction vector : [-0.11362032  1.76405992]\n",
            "-del_f : \t\t0.0485474238901068 \t\t t (step-size) : 0.046655999999999996\n",
            "\n",
            "AT ITERATION 2________________________________________________________________________________________\n",
            "curr_X :\t\t[1.15449096 0.70461889] \t ||grad_f|| : 1.9674524292668287\n",
            "Direction Derivative : -0.1805992669299822 \t\t direction vector : [ 1.86467232 -0.62758761]\n",
            "-del_f : \t\t0.10041178580898713 \t\t t (step-size) : 0.046655999999999996\n",
            "\n",
            "AT ITERATION 3________________________________________________________________________________________\n",
            "curr_X :\t\t[1.24148911 0.67533816] \t ||grad_f|| : 2.6227419118116955\n",
            "Direction Derivative : -0.5348935545733122 \t\t direction vector : [1.01122333 2.4199592 ]\n",
            "-del_f : \t\t0.24511681824857878 \t\t t (step-size) : 0.07776\n",
            "\n",
            "AT ITERATION 4________________________________________________________________________________________\n",
            "curr_X :\t\t[1.32012184 0.86351419] \t ||grad_f|| : 6.208242810309765\n",
            "Direction Derivative : -0.9837642120275356 \t\t direction vector : [1.17581892 0.43736729]\n",
            "-del_f : \t\t0.4746682295283424 \t\t t (step-size) : 0.216\n",
            "\n",
            "AT ITERATION 5________________________________________________________________________________________\n",
            "curr_X :\t\t[1.57409873 0.95798552] \t ||grad_f|| : 4.102990957628145\n",
            "Direction Derivative : -0.2665479486486285 \t\t direction vector : [-0.04099417 -0.0670765 ]\n",
            "-del_f : \t\t0.13801205762166743 \t\t t (step-size) : 1\n",
            "\n",
            "AT ITERATION 6________________________________________________________________________________________\n",
            "curr_X :\t\t[1.53310456 0.89090902] \t ||grad_f|| : 0.3794810137769594\n",
            "Direction Derivative : -0.0018958326710697907 \t\t direction vector : [ 0.00191393 -0.00463275]\n",
            "-del_f : \t\t0.0009517521698641112 \t\t t (step-size) : 1\n",
            "\n",
            "AT ITERATION 7________________________________________________________________________________________\n",
            "curr_X :\t\t[1.53501849 0.88627627] \t ||grad_f|| : 0.0024820040597764784\n",
            "Direction Derivative : -1.2239599134068234e-07 \t\t direction vector : [-2.84233421e-05 -4.93414739e-05]\n",
            "-del_f : \t\t6.120140285408145e-08 \t\t t (step-size) : 1\n",
            "\n",
            "\n",
            "Minima At : [1.53499006 0.88622693]\n",
            "Function value at minima : 4.321375161909247e-16\n",
            "Current ||grad_f|| : 2.196414124959846e-07\n"
          ]
        }
      ],
      "source": [
        "\n",
        "def f(X):\n",
        "    # f takes a 1-D array X as input and returns the value of the mathematical function f at this point\n",
        "    return (X[0]**2 - 3*X[1]**2)**2 + np.sin(X[0]**2 + X[1]**2)**2\n",
        "\n",
        "\n",
        "# specify initial point x0 as a 1-D ndarray\n",
        "init_X = np.array([1, 1])\n",
        "\n",
        "# initiate X, grad_f and the paramaters alpha, beta and eta\n",
        "curr_X = init_X\n",
        "grad_f = nd.Gradient(f)\n",
        "eta = 0.0001\n",
        "alpha = 0.3\n",
        "beta = 0.6\n",
        "\n",
        "# iteration counter for output\n",
        "iter = 0\n",
        "\n",
        "# while the length of the grad_f vector is greater than the tolerance eta\n",
        "while ( math.sqrt(grad_f(curr_X)[0]**2 + grad_f(curr_X)[1]**2) > eta ):\n",
        "\n",
        "    # direction vector is initialised to -grad_f by default (Gradient Descent)\n",
        "    dirn = -1*grad_f(curr_X)\n",
        "\n",
        "    # compute the Hessian\n",
        "    H = nd.Hessian(f)(curr_X)\n",
        "\n",
        "    # check if all the eigenvalues of the Hessian are positive\n",
        "    for i in np.linalg.eigvals(H):\n",
        "        if i <= 0:\n",
        "            break\n",
        "            # breaks if a value is non-positive\n",
        "    else:\n",
        "        # the direction value is changed to the direction as in Newton Descent\n",
        "        dirn = np.dot(-1*np.linalg.inv(H), grad_f(curr_X))\n",
        "\n",
        "\n",
        "    # Linear Search\n",
        "    t = 1\n",
        "\n",
        "    # while delta_f is less than -1*alpha*Df(x)(t*direction)\n",
        "    # Df(x)(t*direction) = transpose(grad_f) . t*direction\n",
        "    while ( f(curr_X) - f(curr_X + t*dirn) < -1*alpha*np.dot( np.transpose(grad_f(curr_X)), t*dirn ) ):\n",
        "        # update t\n",
        "        t = beta * t\n",
        "\n",
        "    print(f\"AT ITERATION {iter}________________________________________________________________________________________\")\n",
        "    print( f\"curr_X :\\t\\t{curr_X} \\t ||grad_f|| : {math.sqrt(grad_f(curr_X)[0]**2 + grad_f(curr_X)[1]**2)}\" )\n",
        "    print( f\"Direction Derivative : {np.dot( np.transpose(grad_f(curr_X)), t*dirn )} \\t\\t direction vector : {dirn}\" )\n",
        "    print( f\"-del_f : \\t\\t{f(curr_X) - f(curr_X + t*dirn)} \\t\\t t (step-size) : {t}\\n\" )\n",
        "    \n",
        "    # update curr_X\n",
        "    curr_X = curr_X + t*dirn\n",
        "\n",
        "    # increment the counter\n",
        "    iter+=1\n",
        "\n",
        "\n",
        "print(f\"\\nMinima At : {curr_X}\")\n",
        "print(f\"Function value at minima : {f(curr_X)}\")\n",
        "print(f\"Current ||grad_f|| : {math.sqrt(grad_f(curr_X)[0]**2 + grad_f(curr_X)[1]**2)}\")"
      ]
    },
    {
      "cell_type": "markdown",
      "metadata": {
        "id": "4fRF7Hwd69MY"
      },
      "source": [
        "## **Problem 3 (Combined Descent Algorithm)**\n",
        "Suppose $S$ is a subset of $\\mathbb{R}^n$ that is defined by a collection of inequalities:\n",
        "\n",
        "> $S = \\{ x ∈ \\mathbb{R}^n :$ for every $j = 1, ..., m, g_j(x) ≥ 0\\}$\n",
        "\n",
        "Associated with any such set $S$ is the potential function defined as\n",
        "\n",
        "> $\\Psi(x) = -\\sum_{j=1}^{m} \\log{(g_j(x))}$\n",
        "\n",
        "The analytic center of the set $S$ is the vector that minimizes the associated potential function i.e. the vector $x$ that solves\n",
        "\n",
        "> $\\min\\limits_{x} \\Psi(x)$\n",
        "\n",
        "As an example instance, suppose $S$ is a subset of $\\mathbb{R}^2$ described as above by three linear inequalities given by\n",
        "\n",
        "> $g_1(x_1, x_2) = 2x_2 - x_1$\n",
        "\n",
        "> $g_2(x_1, x_2) = 2x_1 - x_2$\n",
        "\n",
        "> $g_3(x_1, x_2) = 1 - x_1 - x_2$\n",
        "\n",
        "Frame the problem as an unconstrained optimization problem and write a code that uses the\n",
        "combination descent algorithm with initial point (0.25, 0.25) to compute the analytic center\n",
        "of $S$."
      ]
    },
    {
      "cell_type": "markdown",
      "metadata": {
        "id": "NDzpzIxD69MZ"
      },
      "source": [
        "### **Solution**\n",
        "\n",
        "> $\\Psi(x) = -\\sum_{j=1}^{m} \\log{(g_j(x))} = -\\log{ (\\prod_{j=1}^{m} g_j(x)) } = \\log{\\frac{1}{\\prod_{j=1}^{m} g_j(x)}}$\n",
        "\n",
        "Since minimizing $\\log{f(x)}$ is equivalent to minimizing $f(x)$, we evaluate\n",
        "\n",
        "> $\\min\\limits_{x} (\\frac{1}{\\prod_{j=1}^{m} g_j(x)})$\n",
        "\n",
        "Set $S$ is defined on the functions $g_1(x1, x2)$, $g_2(x1, x2)$, and $g_3(x1, x2)$ given above. So, we minimize as follows:\n",
        "\n",
        "> $\\min\\limits_{x} (\\frac{1}{g_1(X) \\cdot g_2(X) \\cdot g_3(X)})$\n"
      ]
    },
    {
      "cell_type": "code",
      "execution_count": 91,
      "metadata": {
        "colab": {
          "base_uri": "https://localhost:8080/"
        },
        "id": "qFfHt_wN69MZ",
        "outputId": "a513b9a6-28c8-42c4-b0ba-6d5124fe5133"
      },
      "outputs": [
        {
          "output_type": "stream",
          "name": "stdout",
          "text": [
            "AT ITERATION 0________________________________________________________________________________________\n",
            "curr_X :\t\t[0.25 0.25] \t ||grad_f|| : 90.50966799186328\n",
            "Direction Derivative : -7.999999886344217 \t\t direction vector : [0.0625 0.0625]\n",
            "-del_f : \t\t4.693333307470624 \t\t t (step-size) : 1\n",
            "\n",
            "AT ITERATION 1________________________________________________________________________________________\n",
            "curr_X :\t\t[0.3125 0.3125] \t ||grad_f|| : 20.595978641346267\n",
            "Direction Derivative : -0.6206061114565193 \t\t direction vector : [0.02130682 0.02130682]\n",
            "-del_f : \t\t0.30650310381254187 \t\t t (step-size) : 1\n",
            "\n",
            "AT ITERATION 2________________________________________________________________________________________\n",
            "curr_X :\t\t[0.33380682 0.33380682] \t ||grad_f|| : 0.4888440181037405\n",
            "Direction Derivative : -0.0003268626233877639 \t\t direction vector : [-0.0004728 -0.0004728]\n",
            "-del_f : \t\t0.00016358837765650946 \t\t t (step-size) : 1\n",
            "\n",
            "AT ITERATION 3________________________________________________________________________________________\n",
            "curr_X :\t\t[0.33333402 0.33333402] \t ||grad_f|| : 0.0007032270077307531\n",
            "Direction Derivative : -6.783624143630435e-10 \t\t direction vector : [-6.82105007e-07 -6.82105007e-07]\n",
            "-del_f : \t\t3.391811276287626e-10 \t\t t (step-size) : 1\n",
            "\n",
            "\n",
            "Point satisfies the `g_i(x) > 0` constraint.\n",
            "\n",
            "Minima At : [0.33333333 0.33333333]\n",
            "Function value at minima : 26.999999999999996\n",
            "Current ||grad_f|| : 1.4657983625915513e-09\n",
            "\n",
            "\n"
          ]
        }
      ],
      "source": [
        "# defining g1(x)\n",
        "def g_1(X):\n",
        "    return 2*X[1] - X[0]\n",
        "\n",
        "\n",
        "# defining g2(x)\n",
        "def g_2(X):\n",
        "    return 2*X[0] - X[1]\n",
        "\n",
        "\n",
        "# defining g3(x)\n",
        "def g_3(X):\n",
        "    return 1 - X[0] - X[1]\n",
        "\n",
        "\n",
        "# defining the function we need to minimize\n",
        "def cost_func(X):\n",
        "    return 1 / (g_1(X) * g_2(X) * g_3(X))\n",
        "\n",
        "# initial value of X\n",
        "init_X = np.array([0.25, 0.25])\n",
        "\n",
        "# initiating the current value of X\n",
        "curr_X = init_X\n",
        "\n",
        "# computing the Gradient of the cost function\n",
        "grad_cost = nd.Gradient(cost_func)\n",
        "\n",
        "# initialising parameters\n",
        "eta = 0.0001\n",
        "alpha = 0.3\n",
        "beta = 0.5\n",
        "\n",
        "# initialising counter\n",
        "iter = 0\n",
        "\n",
        "# while the length of the grad_f vector is greater than the tolerance eta\n",
        "while ( math.sqrt(grad_cost(curr_X)[0]**2 + grad_cost(curr_X)[1]**2) > eta ) :\n",
        "\n",
        "    # direction vector is initialised to -grad_f by default (Gradient Descent)\n",
        "    dirn = -1*grad_cost(curr_X)\n",
        "\n",
        "    # compute the Hessian matrix of the cost function\n",
        "    H = nd.Hessian(cost_func)(curr_X)\n",
        "\n",
        "    # check if all the eigenvalues of the Hessian are positive\n",
        "    for i in np.linalg.eigvals(H):\n",
        "        if i <= 0:\n",
        "            break\n",
        "    else:\n",
        "        # the direction value is changed to the direction as in Newton Descent\n",
        "        dirn = np.dot(-1*np.linalg.inv(H), grad_cost(curr_X))\n",
        "    \n",
        "\n",
        "    # Linear Search\n",
        "    t = 1\n",
        "\n",
        "    # while delta_f is less than -1*alpha*Df(x)(t*direction)\n",
        "    # Df(x)(t*direction) = transpose(grad_f) . t*direction\n",
        "    while ( cost_func(curr_X) - cost_func(curr_X + t*dirn) < -1*alpha*np.dot( np.transpose(grad_cost(curr_X)), t*dirn ) ) :\n",
        "        # update step-size, t\n",
        "        t = beta * t\n",
        "\n",
        "    print(f\"AT ITERATION {iter}________________________________________________________________________________________\")\n",
        "    print( f\"curr_X :\\t\\t{curr_X} \\t ||grad_f|| : {math.sqrt(grad_cost(curr_X)[0]**2 + grad_cost(curr_X)[1]**2)}\" )\n",
        "    print( f\"Direction Derivative : {np.dot( np.transpose(grad_cost(curr_X)), t*dirn )} \\t\\t direction vector : {dirn}\" )\n",
        "    print( f\"-del_f : \\t\\t{cost_func(curr_X) - cost_func(curr_X + t*dirn)} \\t\\t t (step-size) : {t}\\n\" )\n",
        "    \n",
        "    # update curr_X\n",
        "    curr_X = curr_X + t*dirn\n",
        "\n",
        "    # increment the counter \n",
        "    iter += 1\n",
        "\n",
        "if (g_1(curr_X) > 0 and g_2(curr_X) > 0 and g_2(curr_X) > 0) :\n",
        "    print(\"\\nPoint satisfies the `g_i(x) > 0` constraint.\")\n",
        "\n",
        "print(f\"\\nMinima At : {curr_X}\")\n",
        "print(f\"Function value at minima : {cost_func(curr_X)}\")\n",
        "print(f\"Current ||grad_f|| : {math.sqrt(grad_cost(curr_X)[0]**2 + grad_cost(curr_X)[1]**2)}\\n\\n\")\n"
      ]
    },
    {
      "cell_type": "code",
      "source": [
        "# explanation using a graph\n",
        "\n",
        "xLin = np.linspace(-0.2, 1, 1000)\n",
        "y_1 = xLin/2\n",
        "y_2 = xLin*2\n",
        "y_3 = -1*xLin + 1\n",
        "\n",
        "fig = plt.figure(figsize=(10, 8))\n",
        "plt.grid()\n",
        "plt.plot(xLin, y_1, 'b', label='g_1(x)')\n",
        "plt.plot(xLin, y_2, 'g', label='g_2(x)')\n",
        "plt.plot(xLin, y_3, 'r', label='g_3(x)')\n",
        "plt.plot([0.25], [0.25], marker=\".\", markersize=20, markeredgecolor=\"red\", markerfacecolor=\"red\", label='initial pt')\n",
        "plt.plot([0.33], [0.33], marker=\".\", markersize=20, markeredgecolor=\"green\", markerfacecolor=\"green\", label='minimum')\n",
        "plt.legend()\n",
        "\n",
        "plt.show()"
      ],
      "metadata": {
        "colab": {
          "base_uri": "https://localhost:8080/",
          "height": 483
        },
        "id": "A_1qHR99witJ",
        "outputId": "2c5f2d98-5bb3-462e-c8d9-f3935685a469"
      },
      "execution_count": 88,
      "outputs": [
        {
          "output_type": "display_data",
          "data": {
            "text/plain": [
              "<Figure size 720x576 with 1 Axes>"
            ],
            "image/png": "[encoded data removed]"
          },
          "metadata": {
            "needs_background": "light"
          }
        }
      ]
    },
    {
      "cell_type": "markdown",
      "source": [
        "The favourable region: $g_1(x) > 0, g_2(x) > 0$ and $g_3(x) > 0$ is the triangle formed by the three lines above.\n",
        "\n",
        "As the initial point (red) lies within this region, we are already satisfying the constraint. As we take small steps and move towards the minimum (green), which also lies within the constraint, we stay within the favourable region throughout the entire combined descent routine.\n"
      ],
      "metadata": {
        "id": "-XLOPlFruUHk"
      }
    }
  ],
  "metadata": {
    "interpreter": {
      "hash": "a665b5d41d17b532ea9890333293a1b812fa0b73c9c25c950b3cedf1bebd0438"
    },
    "kernelspec": {
      "display_name": "Python 3.9.14 64-bit",
      "language": "python",
      "name": "python3"
    },
    "language_info": {
      "codemirror_mode": {
        "name": "ipython",
        "version": 3
      },
      "file_extension": ".py",
      "mimetype": "text/x-python",
      "name": "python",
      "nbconvert_exporter": "python",
      "pygments_lexer": "ipython3",
      "version": "3.9.16"
    },
    "orig_nbformat": 4,
    "colab": {
      "provenance": []
    }
  },
  "nbformat": 4,
  "nbformat_minor": 0
}